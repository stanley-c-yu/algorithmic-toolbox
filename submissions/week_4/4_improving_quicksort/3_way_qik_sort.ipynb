{
 "cells": [
  {
   "cell_type": "code",
   "execution_count": 1,
   "metadata": {},
   "outputs": [],
   "source": [
    "import random \n",
    "import time"
   ]
  },
  {
   "cell_type": "markdown",
   "metadata": {},
   "source": [
    "## Partition: "
   ]
  },
  {
   "cell_type": "code",
   "execution_count": 2,
   "metadata": {},
   "outputs": [],
   "source": [
    "def partition3(arr, l, r): \n",
    "    '''\n",
    "    Inputs:\n",
    "        a: array of elements \n",
    "        l: the index of the leftmost element of the array, \"a\" \n",
    "        r: the index of the rightmost element of the array, \"a\" \n",
    "    Returns: \n",
    "        The left and right coordinates that mark the beginning and end of our \"bulk\" pivot  \n",
    "    '''\n",
    "    i = l\n",
    "    l_idx_cp = l \n",
    "    r_idx_cp = r\n",
    "    pivot_val = arr[l]\n",
    "    while i <= r_idx_cp:\n",
    "        print(\"Left Index Copy is currently: \", l_idx_cp)\n",
    "        print(\"Left Index Copy plus one is: \", l_idx_cp + 1)\n",
    "        if arr[i] < pivot_val: \n",
    "            arr[i], arr[l_idx_cp] = arr[l_idx_cp], arr[i]\n",
    "            l_idx_cp += 1\n",
    "        elif arr[i] > pivot_val:\n",
    "            arr[i], arr[r_idx_cp] = arr[r_idx_cp], arr[i]\n",
    "            r_idx_cp -= 1 \n",
    "            i -= 1\n",
    "        i += 1 \n",
    "    return l_idx_cp, r_idx_cp"
   ]
  },
  {
   "cell_type": "markdown",
   "metadata": {},
   "source": [
    "## Randomized Quick Sort"
   ]
  },
  {
   "cell_type": "code",
   "execution_count": 3,
   "metadata": {},
   "outputs": [],
   "source": [
    "def randomized_quick_sort(a, l, r, counter):\n",
    "    print(\"----------\")\n",
    "    time.sleep(3)\n",
    "    counter +=1 \n",
    "    if l >= r:\n",
    "        print(\"Returning because l > r.\")\n",
    "        return \n",
    "    k = random.randint(l, r)\n",
    "    pointer_list = list('.') * len(arr)\n",
    "    pointer_list[k] = \"K\"\n",
    "    pointer_list[l] = \"L\"\n",
    "    print(pointer_list)\n",
    "    display_arr = [str(x) for x in arr]\n",
    "    print(display_arr)\n",
    "    a[l], a[k] = a[k], a[l]\n",
    "    print(\"Swap occurred just now!\")\n",
    "    pointer_list[l], pointer_list[k] = pointer_list[k], pointer_list[l]\n",
    "    print(pointer_list)\n",
    "    print([str(x) for x in arr])\n",
    "    time.sleep(3)\n",
    "    mid_left_idx, mid_right_idx = partition3(a, l, r)\n",
    "    #use partition3\n",
    "    randomized_quick_sort(a, l, mid_left_idx - 1, counter)\n",
    "    randomized_quick_sort(a, mid_right_idx + 1, r, counter) \n",
    "    return a\n",
    "    "
   ]
  },
  {
   "cell_type": "code",
   "execution_count": 4,
   "metadata": {},
   "outputs": [
    {
     "name": "stdout",
     "output_type": "stream",
     "text": [
      "----------\n",
      "['L', '.', '.', '.', 'K']\n",
      "['2', '3', '9', '2', '2']\n",
      "Swap occurred just now!\n",
      "['K', '.', '.', '.', 'L']\n",
      "['2', '3', '9', '2', '2']\n",
      "Left Index Copy is currently:  0\n",
      "Left Index Copy plus one is:  1\n",
      "Left Index Copy is currently:  0\n",
      "Left Index Copy plus one is:  1\n",
      "Left Index Copy is currently:  0\n",
      "Left Index Copy plus one is:  1\n",
      "Left Index Copy is currently:  0\n",
      "Left Index Copy plus one is:  1\n",
      "Left Index Copy is currently:  0\n",
      "Left Index Copy plus one is:  1\n",
      "----------\n",
      "Returning because l > r.\n",
      "----------\n",
      "['.', '.', '.', 'L', '.']\n",
      "['2', '2', '2', '9', '3']\n",
      "Swap occurred just now!\n",
      "['.', '.', '.', 'L', '.']\n",
      "['2', '2', '2', '9', '3']\n",
      "Left Index Copy is currently:  3\n",
      "Left Index Copy plus one is:  4\n",
      "Left Index Copy is currently:  3\n",
      "Left Index Copy plus one is:  4\n",
      "----------\n",
      "Returning because l > r.\n",
      "----------\n",
      "Returning because l > r.\n"
     ]
    },
    {
     "data": {
      "text/plain": [
       "[2, 2, 2, 3, 9]"
      ]
     },
     "execution_count": 4,
     "metadata": {},
     "output_type": "execute_result"
    }
   ],
   "source": [
    "arr = [2, 3, 9, 2, 2]\n",
    "randomized_quick_sort(a = arr, l = 0, r = 4, counter = 0)"
   ]
  },
  {
   "cell_type": "code",
   "execution_count": null,
   "metadata": {},
   "outputs": [],
   "source": []
  }
 ],
 "metadata": {
  "kernelspec": {
   "display_name": "Python 3",
   "language": "python",
   "name": "python3"
  },
  "language_info": {
   "codemirror_mode": {
    "name": "ipython",
    "version": 3
   },
   "file_extension": ".py",
   "mimetype": "text/x-python",
   "name": "python",
   "nbconvert_exporter": "python",
   "pygments_lexer": "ipython3",
   "version": "3.8.5"
  }
 },
 "nbformat": 4,
 "nbformat_minor": 5
}
