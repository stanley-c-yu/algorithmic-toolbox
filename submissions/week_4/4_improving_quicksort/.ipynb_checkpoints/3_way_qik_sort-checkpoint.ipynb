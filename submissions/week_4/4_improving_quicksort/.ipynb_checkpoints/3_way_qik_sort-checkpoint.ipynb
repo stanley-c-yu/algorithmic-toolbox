{
 "cells": [
  {
   "cell_type": "code",
   "execution_count": 1,
   "id": "a1efc3b2-f3e6-4068-9dd6-2a08eeda25c1",
   "metadata": {},
   "outputs": [],
   "source": [
    "import random "
   ]
  },
  {
   "cell_type": "markdown",
   "id": "1e0e7ed3-84a6-4ba5-9b43-081380c2e884",
   "metadata": {},
   "source": [
    "## Scenario One: \n",
    "The like elements have the lowest value in the array."
   ]
  },
  {
   "cell_type": "code",
   "execution_count": 2,
   "id": "39807711-896f-4328-a242-3a62ed67567f",
   "metadata": {},
   "outputs": [
    {
     "name": "stdout",
     "output_type": "stream",
     "text": [
      "l: 0 r: 4\n",
      "Array: [2, 3, 9, 2, 2]\n"
     ]
    }
   ],
   "source": [
    "a = [2, 3, 9, 2, 2]\n",
    "l = 0\n",
    "r = len(a) - 1\n",
    "print(\"l: \" + str(l) + \" r: \" + str(r))\n",
    "print(\"Array: \" + str(a))"
   ]
  },
  {
   "cell_type": "code",
   "execution_count": 3,
   "id": "f1a7a312-78ce-4955-b294-53fac2e31366",
   "metadata": {},
   "outputs": [
    {
     "name": "stdout",
     "output_type": "stream",
     "text": [
      "K:  1\n"
     ]
    }
   ],
   "source": [
    "# We choose a random integer in the arrary between the bound of the left and right most indices \n",
    "k = random.randint(l, r)\n",
    "print(\"K: \", k)"
   ]
  },
  {
   "cell_type": "code",
   "execution_count": 4,
   "id": "2a171936-cf40-4513-8fa1-c37cd3f0dfa0",
   "metadata": {},
   "outputs": [],
   "source": [
    "# Swap element at 'l' with element at 'k'\n",
    "a[l], a[k] = a[k], a[l]"
   ]
  },
  {
   "cell_type": "code",
   "execution_count": 5,
   "id": "18b1234d-0b0a-48a6-8b7d-9e73a046bd1f",
   "metadata": {},
   "outputs": [
    {
     "name": "stdout",
     "output_type": "stream",
     "text": [
      "a, l, and r given to partition:  [3, 2, 9, 2, 2] 0 4\n"
     ]
    }
   ],
   "source": [
    "# Now we feed the array, l, and r to the helper partition function\n",
    "print(\"a, l, and r given to partition: \", a, l, r)"
   ]
  },
  {
   "cell_type": "code",
   "execution_count": 6,
   "id": "42df7a41-08bd-4515-87c4-877aeadaf653",
   "metadata": {},
   "outputs": [],
   "source": [
    "# Now we need to group like elements, using the argument at l  \n",
    "pivot = a[l]\n",
    "r_idx_copy = r\n",
    "#l_idx_copy = l\n",
    "i = 0\n",
    "l_idx_copy = i\n",
    "while i < r_idx_copy: \n",
    "    if a[i] > pivot:\n",
    "        a[r_idx_copy], a[i] = a[i], a[r_idx_copy]\n",
    "        r_idx_copy -= 1\n",
    "    elif a[i] < pivot: \n",
    "        a[l_idx_copy], a[i] = a[i], a[l_idx_copy]\n",
    "        l_idx_copy += 1\n",
    "    i += 1"
   ]
  },
  {
   "cell_type": "code",
   "execution_count": 7,
   "id": "17499def-ac72-4c49-a6fe-4a59e71c5ec6",
   "metadata": {},
   "outputs": [
    {
     "name": "stdout",
     "output_type": "stream",
     "text": [
      "Array is now:  [2, 3, 2, 2, 9]\n",
      "i is now:  3\n",
      "Right Index Copy is now:  3\n"
     ]
    }
   ],
   "source": [
    "print(\"Array is now: \", a) \n",
    "print(\"i is now: \", i)\n",
    "print(\"Right Index Copy is now: \", r_idx_copy)"
   ]
  },
  {
   "cell_type": "markdown",
   "id": "c3d7ba15-d82d-4c8f-be5c-4134b1ddcb37",
   "metadata": {},
   "source": [
    "## Scenario 2 \n",
    "The like elements are somewhere in the middle.  "
   ]
  },
  {
   "cell_type": "code",
   "execution_count": 35,
   "id": "bf3b5058-bbb9-44b1-a085-a37292e9458f",
   "metadata": {},
   "outputs": [],
   "source": [
    "a = [1, 9, 4, 4, 4]\n",
    "pivot = a[l]\n",
    "r_idx_copy = r\n",
    "i = 0\n",
    "while i < r_idx_copy: \n",
    "    if a[i] > pivot:\n",
    "        a[r_idx_copy], a[i] = a[i], a[r_idx_copy]\n",
    "        r_idx_copy -= 1\n",
    "    elif a[i] < pivot: \n",
    "        a[l], a[i] = a[i], a[l]\n",
    "    i += 1"
   ]
  },
  {
   "cell_type": "code",
   "execution_count": 36,
   "id": "f02394f0-63b3-4307-ae24-e48ec8eb4e16",
   "metadata": {},
   "outputs": [
    {
     "name": "stdout",
     "output_type": "stream",
     "text": [
      "Array is now:  [1, 4, 4, 4, 9]\n",
      "i is now:  1\n",
      "Right Index Copy is now:  1\n"
     ]
    }
   ],
   "source": [
    "print(\"Array is now: \", a) \n",
    "print(\"i is now: \", i)\n",
    "print(\"Right Index Copy is now: \", r_idx_copy)"
   ]
  },
  {
   "cell_type": "markdown",
   "id": "1239e8cb-b969-4c7a-b3bf-24ec9a978e69",
   "metadata": {},
   "source": [
    "## Scenario 3 \n",
    "The like elements are all the greatest value in the array, and are not grouped together to start with.  "
   ]
  },
  {
   "cell_type": "code",
   "execution_count": 33,
   "id": "b6d5d0f8-ce04-4478-9856-a58e02df663e",
   "metadata": {},
   "outputs": [],
   "source": [
    "a = [12, 88, 16, 88, 88]\n",
    "pivot = a[l]\n",
    "r_idx_copy = r\n",
    "i = 0\n",
    "while i < r_idx_copy: \n",
    "    if a[i] > pivot:\n",
    "        a[r_idx_copy], a[i] = a[i], a[r_idx_copy]\n",
    "        r_idx_copy -= 1\n",
    "        i -= 1\n",
    "    elif a[i] < pivot: \n",
    "        a[l], a[i] = a[i], a[l]\n",
    "    i += 1"
   ]
  },
  {
   "cell_type": "code",
   "execution_count": 34,
   "id": "09551119-3252-40f2-9408-a895d5892995",
   "metadata": {},
   "outputs": [
    {
     "name": "stdout",
     "output_type": "stream",
     "text": [
      "Array is now:  [12, 16, 88, 88, 88]\n",
      "i is now:  1\n",
      "Right Index Copy is now:  1\n"
     ]
    }
   ],
   "source": [
    "print(\"Array is now: \", a) \n",
    "print(\"i is now: \", i)\n",
    "print(\"Right Index Copy is now: \", r_idx_copy)"
   ]
  },
  {
   "cell_type": "markdown",
   "id": "f999a585-cece-45ca-a146-26c15bae3e01",
   "metadata": {},
   "source": [
    "## Workspace"
   ]
  },
  {
   "cell_type": "code",
   "execution_count": 14,
   "id": "dc44e6ee-535a-448b-87e4-bcf2aff4e68f",
   "metadata": {},
   "outputs": [
    {
     "name": "stdout",
     "output_type": "stream",
     "text": [
      "[12, 88, 16, 88, 88] 0 4\n"
     ]
    }
   ],
   "source": [
    "a = [12, 88, 16, 88, 88]\n",
    "print(a, l, r)"
   ]
  },
  {
   "cell_type": "code",
   "execution_count": 15,
   "id": "4c62c782-2322-416e-9ae2-20fe096b63b1",
   "metadata": {},
   "outputs": [
    {
     "name": "stdout",
     "output_type": "stream",
     "text": [
      "0 4 12\n"
     ]
    }
   ],
   "source": [
    "i = 0\n",
    "r_idx_copy = r \n",
    "pivot = a[l]\n",
    "print(i, r_idx_copy, pivot)"
   ]
  },
  {
   "cell_type": "code",
   "execution_count": 16,
   "id": "a471c38f-582d-4f05-8013-b425a99553e0",
   "metadata": {},
   "outputs": [
    {
     "name": "stdout",
     "output_type": "stream",
     "text": [
      "False\n",
      "False\n"
     ]
    }
   ],
   "source": [
    "print(a[i] > pivot)\n",
    "print(a[i] < pivot)"
   ]
  },
  {
   "cell_type": "code",
   "execution_count": 17,
   "id": "12b47c8b-e33b-4d4e-b828-8efe88be1707",
   "metadata": {},
   "outputs": [
    {
     "data": {
      "text/plain": [
       "1"
      ]
     },
     "execution_count": 17,
     "metadata": {},
     "output_type": "execute_result"
    }
   ],
   "source": [
    "i += 1 \n",
    "i"
   ]
  },
  {
   "cell_type": "code",
   "execution_count": 18,
   "id": "a3c664c5-aeb3-4682-9481-e9e0759a76e9",
   "metadata": {},
   "outputs": [
    {
     "name": "stdout",
     "output_type": "stream",
     "text": [
      "True\n",
      "False\n"
     ]
    }
   ],
   "source": [
    "print(a[i] > pivot)\n",
    "print(a[i] < pivot)"
   ]
  },
  {
   "cell_type": "code",
   "execution_count": 19,
   "id": "0293314c-de5b-4fdc-b2e6-697a95fbdb18",
   "metadata": {},
   "outputs": [
    {
     "data": {
      "text/plain": [
       "[12, 88, 16, 88, 88]"
      ]
     },
     "execution_count": 19,
     "metadata": {},
     "output_type": "execute_result"
    }
   ],
   "source": [
    "a"
   ]
  },
  {
   "cell_type": "code",
   "execution_count": 20,
   "id": "f5568422-7121-41e6-a0c4-d1811b932600",
   "metadata": {},
   "outputs": [
    {
     "data": {
      "text/plain": [
       "[12, 88, 16, 88, 88]"
      ]
     },
     "execution_count": 20,
     "metadata": {},
     "output_type": "execute_result"
    }
   ],
   "source": [
    "a[i], a[r_idx_copy] = a[r_idx_copy], a[i]\n",
    "a"
   ]
  },
  {
   "cell_type": "code",
   "execution_count": 21,
   "id": "fcdc0187-59b5-48ef-8005-22f48e19dd3c",
   "metadata": {},
   "outputs": [
    {
     "data": {
      "text/plain": [
       "3"
      ]
     },
     "execution_count": 21,
     "metadata": {},
     "output_type": "execute_result"
    }
   ],
   "source": [
    "r_idx_copy -= 1\n",
    "r_idx_copy"
   ]
  },
  {
   "cell_type": "code",
   "execution_count": 22,
   "id": "6b51a9d7-84e7-40c2-915c-f4a0c3512bb3",
   "metadata": {},
   "outputs": [
    {
     "data": {
      "text/plain": [
       "2"
      ]
     },
     "execution_count": 22,
     "metadata": {},
     "output_type": "execute_result"
    }
   ],
   "source": [
    "i += 1 \n",
    "i"
   ]
  },
  {
   "cell_type": "code",
   "execution_count": 23,
   "id": "d9cc8d62-b65a-457f-9c95-5f21a3cb0e53",
   "metadata": {},
   "outputs": [
    {
     "name": "stdout",
     "output_type": "stream",
     "text": [
      "True\n",
      "False\n"
     ]
    }
   ],
   "source": [
    "print(a[i] > pivot)\n",
    "print(a[i] < pivot)"
   ]
  },
  {
   "cell_type": "code",
   "execution_count": 24,
   "id": "5281bffa-6780-4231-9f2c-7f5ba94e6348",
   "metadata": {},
   "outputs": [
    {
     "data": {
      "text/plain": [
       "[12, 88, 16, 88, 88]"
      ]
     },
     "execution_count": 24,
     "metadata": {},
     "output_type": "execute_result"
    }
   ],
   "source": [
    "a"
   ]
  },
  {
   "cell_type": "code",
   "execution_count": 25,
   "id": "cb83b8b4-ad70-4808-b89e-f91efa517f8b",
   "metadata": {},
   "outputs": [
    {
     "data": {
      "text/plain": [
       "[12, 88, 88, 16, 88]"
      ]
     },
     "execution_count": 25,
     "metadata": {},
     "output_type": "execute_result"
    }
   ],
   "source": [
    "a[i], a[r_idx_copy] = a[r_idx_copy], a[i]\n",
    "a"
   ]
  },
  {
   "cell_type": "code",
   "execution_count": 26,
   "id": "cbfe077a-7492-4aa3-947b-b27a61b794f3",
   "metadata": {},
   "outputs": [],
   "source": [
    "i += 1"
   ]
  },
  {
   "cell_type": "code",
   "execution_count": 27,
   "id": "4fcb9af3-2726-4328-a719-1ae0b1d90dd0",
   "metadata": {},
   "outputs": [
    {
     "data": {
      "text/plain": [
       "3"
      ]
     },
     "execution_count": 27,
     "metadata": {},
     "output_type": "execute_result"
    }
   ],
   "source": [
    "i"
   ]
  },
  {
   "cell_type": "code",
   "execution_count": 28,
   "id": "2db4609e-8c13-418b-9ad8-1be2830eca9d",
   "metadata": {},
   "outputs": [
    {
     "name": "stdout",
     "output_type": "stream",
     "text": [
      "True\n",
      "False\n"
     ]
    }
   ],
   "source": [
    "print(a[i] > pivot)\n",
    "print(a[i] < pivot)"
   ]
  },
  {
   "cell_type": "code",
   "execution_count": 29,
   "id": "b64363fb-bd85-451d-bd49-8e3301326af9",
   "metadata": {},
   "outputs": [
    {
     "data": {
      "text/plain": [
       "[12, 88, 88, 16, 88]"
      ]
     },
     "execution_count": 29,
     "metadata": {},
     "output_type": "execute_result"
    }
   ],
   "source": [
    "a"
   ]
  },
  {
   "cell_type": "code",
   "execution_count": 30,
   "id": "a6efc4d0-5cac-47bf-97c9-94ccca6eb949",
   "metadata": {},
   "outputs": [
    {
     "data": {
      "text/plain": [
       "[12, 88, 88, 16, 88]"
      ]
     },
     "execution_count": 30,
     "metadata": {},
     "output_type": "execute_result"
    }
   ],
   "source": [
    "a[i], a[r_idx_copy] = a[r_idx_copy], a[i]\n",
    "a"
   ]
  },
  {
   "cell_type": "code",
   "execution_count": 31,
   "id": "1775ed8a-e9cf-4142-a1aa-185ed90cf84f",
   "metadata": {},
   "outputs": [
    {
     "name": "stdout",
     "output_type": "stream",
     "text": [
      "4 2\n"
     ]
    }
   ],
   "source": [
    "i += 1\n",
    "r_idx_copy -= 1\n",
    "print(i, r_idx_copy)"
   ]
  },
  {
   "cell_type": "code",
   "execution_count": 32,
   "id": "02b8ef9c-1249-4993-9df8-ebf3a42c0dfd",
   "metadata": {},
   "outputs": [
    {
     "data": {
      "text/plain": [
       "[12, 88, 88, 16, 88]"
      ]
     },
     "execution_count": 32,
     "metadata": {},
     "output_type": "execute_result"
    }
   ],
   "source": [
    "a"
   ]
  },
  {
   "cell_type": "code",
   "execution_count": null,
   "id": "08d2721a-0981-45d1-aca7-43f30d4673c1",
   "metadata": {},
   "outputs": [],
   "source": []
  }
 ],
 "metadata": {
  "kernelspec": {
   "display_name": "Python 3 (ipykernel)",
   "language": "python",
   "name": "python3"
  },
  "language_info": {
   "codemirror_mode": {
    "name": "ipython",
    "version": 3
   },
   "file_extension": ".py",
   "mimetype": "text/x-python",
   "name": "python",
   "nbconvert_exporter": "python",
   "pygments_lexer": "ipython3",
   "version": "3.9.6"
  }
 },
 "nbformat": 4,
 "nbformat_minor": 5
}
